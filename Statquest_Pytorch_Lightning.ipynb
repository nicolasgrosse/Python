{
  "nbformat": 4,
  "nbformat_minor": 0,
  "metadata": {
    "colab": {
      "provenance": [],
      "authorship_tag": "ABX9TyMqYTl4dV0h3tv8h1/opUco"
    },
    "kernelspec": {
      "name": "python3",
      "display_name": "Python 3"
    },
    "language_info": {
      "name": "python"
    },
    "widgets": {
      "application/vnd.jupyter.widget-state+json": {
        "194013ba0ec2429287c36598865944c6": {
          "model_module": "@jupyter-widgets/controls",
          "model_name": "HBoxModel",
          "model_module_version": "1.5.0",
          "state": {
            "_dom_classes": [],
            "_model_module": "@jupyter-widgets/controls",
            "_model_module_version": "1.5.0",
            "_model_name": "HBoxModel",
            "_view_count": null,
            "_view_module": "@jupyter-widgets/controls",
            "_view_module_version": "1.5.0",
            "_view_name": "HBoxView",
            "box_style": "",
            "children": [
              "IPY_MODEL_6839d3a51c8e4daab252a6f94ed09d09",
              "IPY_MODEL_41f7347d12c34944bf7ca73c00bf1d51",
              "IPY_MODEL_7c4fe270d3184a8fb99968b1e8f0fb1b"
            ],
            "layout": "IPY_MODEL_536e324c63f348bc9ef67b474d3abaa7"
          }
        },
        "6839d3a51c8e4daab252a6f94ed09d09": {
          "model_module": "@jupyter-widgets/controls",
          "model_name": "HTMLModel",
          "model_module_version": "1.5.0",
          "state": {
            "_dom_classes": [],
            "_model_module": "@jupyter-widgets/controls",
            "_model_module_version": "1.5.0",
            "_model_name": "HTMLModel",
            "_view_count": null,
            "_view_module": "@jupyter-widgets/controls",
            "_view_module_version": "1.5.0",
            "_view_name": "HTMLView",
            "description": "",
            "description_tooltip": null,
            "layout": "IPY_MODEL_5095409b1a424e49bcab70b5a987d627",
            "placeholder": "​",
            "style": "IPY_MODEL_c90d409998944710b3ce6cc4cf88d4e8",
            "value": "Finding best initial lr: 100%"
          }
        },
        "41f7347d12c34944bf7ca73c00bf1d51": {
          "model_module": "@jupyter-widgets/controls",
          "model_name": "FloatProgressModel",
          "model_module_version": "1.5.0",
          "state": {
            "_dom_classes": [],
            "_model_module": "@jupyter-widgets/controls",
            "_model_module_version": "1.5.0",
            "_model_name": "FloatProgressModel",
            "_view_count": null,
            "_view_module": "@jupyter-widgets/controls",
            "_view_module_version": "1.5.0",
            "_view_name": "ProgressView",
            "bar_style": "success",
            "description": "",
            "description_tooltip": null,
            "layout": "IPY_MODEL_f2c65fefe450476f8cfa33dca7e99eb3",
            "max": 100,
            "min": 0,
            "orientation": "horizontal",
            "style": "IPY_MODEL_ce731fb2b35e4c7ab53709a1405d75d5",
            "value": 100
          }
        },
        "7c4fe270d3184a8fb99968b1e8f0fb1b": {
          "model_module": "@jupyter-widgets/controls",
          "model_name": "HTMLModel",
          "model_module_version": "1.5.0",
          "state": {
            "_dom_classes": [],
            "_model_module": "@jupyter-widgets/controls",
            "_model_module_version": "1.5.0",
            "_model_name": "HTMLModel",
            "_view_count": null,
            "_view_module": "@jupyter-widgets/controls",
            "_view_module_version": "1.5.0",
            "_view_name": "HTMLView",
            "description": "",
            "description_tooltip": null,
            "layout": "IPY_MODEL_36ad1bc68df94f8d8b59a7327aecc237",
            "placeholder": "​",
            "style": "IPY_MODEL_c104062fdc334db1bd3621d5b4e010b2",
            "value": " 100/100 [01:43&lt;00:00, 477.50it/s]"
          }
        },
        "536e324c63f348bc9ef67b474d3abaa7": {
          "model_module": "@jupyter-widgets/base",
          "model_name": "LayoutModel",
          "model_module_version": "1.2.0",
          "state": {
            "_model_module": "@jupyter-widgets/base",
            "_model_module_version": "1.2.0",
            "_model_name": "LayoutModel",
            "_view_count": null,
            "_view_module": "@jupyter-widgets/base",
            "_view_module_version": "1.2.0",
            "_view_name": "LayoutView",
            "align_content": null,
            "align_items": null,
            "align_self": null,
            "border": null,
            "bottom": null,
            "display": null,
            "flex": null,
            "flex_flow": null,
            "grid_area": null,
            "grid_auto_columns": null,
            "grid_auto_flow": null,
            "grid_auto_rows": null,
            "grid_column": null,
            "grid_gap": null,
            "grid_row": null,
            "grid_template_areas": null,
            "grid_template_columns": null,
            "grid_template_rows": null,
            "height": null,
            "justify_content": null,
            "justify_items": null,
            "left": null,
            "margin": null,
            "max_height": null,
            "max_width": null,
            "min_height": null,
            "min_width": null,
            "object_fit": null,
            "object_position": null,
            "order": null,
            "overflow": null,
            "overflow_x": null,
            "overflow_y": null,
            "padding": null,
            "right": null,
            "top": null,
            "visibility": null,
            "width": null
          }
        },
        "5095409b1a424e49bcab70b5a987d627": {
          "model_module": "@jupyter-widgets/base",
          "model_name": "LayoutModel",
          "model_module_version": "1.2.0",
          "state": {
            "_model_module": "@jupyter-widgets/base",
            "_model_module_version": "1.2.0",
            "_model_name": "LayoutModel",
            "_view_count": null,
            "_view_module": "@jupyter-widgets/base",
            "_view_module_version": "1.2.0",
            "_view_name": "LayoutView",
            "align_content": null,
            "align_items": null,
            "align_self": null,
            "border": null,
            "bottom": null,
            "display": null,
            "flex": null,
            "flex_flow": null,
            "grid_area": null,
            "grid_auto_columns": null,
            "grid_auto_flow": null,
            "grid_auto_rows": null,
            "grid_column": null,
            "grid_gap": null,
            "grid_row": null,
            "grid_template_areas": null,
            "grid_template_columns": null,
            "grid_template_rows": null,
            "height": null,
            "justify_content": null,
            "justify_items": null,
            "left": null,
            "margin": null,
            "max_height": null,
            "max_width": null,
            "min_height": null,
            "min_width": null,
            "object_fit": null,
            "object_position": null,
            "order": null,
            "overflow": null,
            "overflow_x": null,
            "overflow_y": null,
            "padding": null,
            "right": null,
            "top": null,
            "visibility": null,
            "width": null
          }
        },
        "c90d409998944710b3ce6cc4cf88d4e8": {
          "model_module": "@jupyter-widgets/controls",
          "model_name": "DescriptionStyleModel",
          "model_module_version": "1.5.0",
          "state": {
            "_model_module": "@jupyter-widgets/controls",
            "_model_module_version": "1.5.0",
            "_model_name": "DescriptionStyleModel",
            "_view_count": null,
            "_view_module": "@jupyter-widgets/base",
            "_view_module_version": "1.2.0",
            "_view_name": "StyleView",
            "description_width": ""
          }
        },
        "f2c65fefe450476f8cfa33dca7e99eb3": {
          "model_module": "@jupyter-widgets/base",
          "model_name": "LayoutModel",
          "model_module_version": "1.2.0",
          "state": {
            "_model_module": "@jupyter-widgets/base",
            "_model_module_version": "1.2.0",
            "_model_name": "LayoutModel",
            "_view_count": null,
            "_view_module": "@jupyter-widgets/base",
            "_view_module_version": "1.2.0",
            "_view_name": "LayoutView",
            "align_content": null,
            "align_items": null,
            "align_self": null,
            "border": null,
            "bottom": null,
            "display": null,
            "flex": null,
            "flex_flow": null,
            "grid_area": null,
            "grid_auto_columns": null,
            "grid_auto_flow": null,
            "grid_auto_rows": null,
            "grid_column": null,
            "grid_gap": null,
            "grid_row": null,
            "grid_template_areas": null,
            "grid_template_columns": null,
            "grid_template_rows": null,
            "height": null,
            "justify_content": null,
            "justify_items": null,
            "left": null,
            "margin": null,
            "max_height": null,
            "max_width": null,
            "min_height": null,
            "min_width": null,
            "object_fit": null,
            "object_position": null,
            "order": null,
            "overflow": null,
            "overflow_x": null,
            "overflow_y": null,
            "padding": null,
            "right": null,
            "top": null,
            "visibility": null,
            "width": null
          }
        },
        "ce731fb2b35e4c7ab53709a1405d75d5": {
          "model_module": "@jupyter-widgets/controls",
          "model_name": "ProgressStyleModel",
          "model_module_version": "1.5.0",
          "state": {
            "_model_module": "@jupyter-widgets/controls",
            "_model_module_version": "1.5.0",
            "_model_name": "ProgressStyleModel",
            "_view_count": null,
            "_view_module": "@jupyter-widgets/base",
            "_view_module_version": "1.2.0",
            "_view_name": "StyleView",
            "bar_color": null,
            "description_width": ""
          }
        },
        "36ad1bc68df94f8d8b59a7327aecc237": {
          "model_module": "@jupyter-widgets/base",
          "model_name": "LayoutModel",
          "model_module_version": "1.2.0",
          "state": {
            "_model_module": "@jupyter-widgets/base",
            "_model_module_version": "1.2.0",
            "_model_name": "LayoutModel",
            "_view_count": null,
            "_view_module": "@jupyter-widgets/base",
            "_view_module_version": "1.2.0",
            "_view_name": "LayoutView",
            "align_content": null,
            "align_items": null,
            "align_self": null,
            "border": null,
            "bottom": null,
            "display": null,
            "flex": null,
            "flex_flow": null,
            "grid_area": null,
            "grid_auto_columns": null,
            "grid_auto_flow": null,
            "grid_auto_rows": null,
            "grid_column": null,
            "grid_gap": null,
            "grid_row": null,
            "grid_template_areas": null,
            "grid_template_columns": null,
            "grid_template_rows": null,
            "height": null,
            "justify_content": null,
            "justify_items": null,
            "left": null,
            "margin": null,
            "max_height": null,
            "max_width": null,
            "min_height": null,
            "min_width": null,
            "object_fit": null,
            "object_position": null,
            "order": null,
            "overflow": null,
            "overflow_x": null,
            "overflow_y": null,
            "padding": null,
            "right": null,
            "top": null,
            "visibility": null,
            "width": null
          }
        },
        "c104062fdc334db1bd3621d5b4e010b2": {
          "model_module": "@jupyter-widgets/controls",
          "model_name": "DescriptionStyleModel",
          "model_module_version": "1.5.0",
          "state": {
            "_model_module": "@jupyter-widgets/controls",
            "_model_module_version": "1.5.0",
            "_model_name": "DescriptionStyleModel",
            "_view_count": null,
            "_view_module": "@jupyter-widgets/base",
            "_view_module_version": "1.2.0",
            "_view_name": "StyleView",
            "description_width": ""
          }
        },
        "f247f23a53ca47f2985058f9b580e5c5": {
          "model_module": "@jupyter-widgets/controls",
          "model_name": "HBoxModel",
          "model_module_version": "1.5.0",
          "state": {
            "_dom_classes": [],
            "_model_module": "@jupyter-widgets/controls",
            "_model_module_version": "1.5.0",
            "_model_name": "HBoxModel",
            "_view_count": null,
            "_view_module": "@jupyter-widgets/controls",
            "_view_module_version": "1.5.0",
            "_view_name": "HBoxView",
            "box_style": "",
            "children": [
              "IPY_MODEL_5e074c590e104c9db880207317df4d62",
              "IPY_MODEL_46ae157bd27849d6995513a4f8478440",
              "IPY_MODEL_9d88edc80d104ff281f8747a6bf667c2"
            ],
            "layout": "IPY_MODEL_7abc1e5fb3c94d498a3f15de7dca11f9"
          }
        },
        "5e074c590e104c9db880207317df4d62": {
          "model_module": "@jupyter-widgets/controls",
          "model_name": "HTMLModel",
          "model_module_version": "1.5.0",
          "state": {
            "_dom_classes": [],
            "_model_module": "@jupyter-widgets/controls",
            "_model_module_version": "1.5.0",
            "_model_name": "HTMLModel",
            "_view_count": null,
            "_view_module": "@jupyter-widgets/controls",
            "_view_module_version": "1.5.0",
            "_view_name": "HTMLView",
            "description": "",
            "description_tooltip": null,
            "layout": "IPY_MODEL_95b4cd2b32da45f0ae9fb58822db2274",
            "placeholder": "​",
            "style": "IPY_MODEL_f1e68fdf916e47f9985e66a01a093ecd",
            "value": "Epoch 33: 100%"
          }
        },
        "46ae157bd27849d6995513a4f8478440": {
          "model_module": "@jupyter-widgets/controls",
          "model_name": "FloatProgressModel",
          "model_module_version": "1.5.0",
          "state": {
            "_dom_classes": [],
            "_model_module": "@jupyter-widgets/controls",
            "_model_module_version": "1.5.0",
            "_model_name": "FloatProgressModel",
            "_view_count": null,
            "_view_module": "@jupyter-widgets/controls",
            "_view_module_version": "1.5.0",
            "_view_name": "ProgressView",
            "bar_style": "success",
            "description": "",
            "description_tooltip": null,
            "layout": "IPY_MODEL_5fa723170f8f48eea5919388fe0b26da",
            "max": 300,
            "min": 0,
            "orientation": "horizontal",
            "style": "IPY_MODEL_e56cc015939440ceac552f9564d4cf87",
            "value": 300
          }
        },
        "9d88edc80d104ff281f8747a6bf667c2": {
          "model_module": "@jupyter-widgets/controls",
          "model_name": "HTMLModel",
          "model_module_version": "1.5.0",
          "state": {
            "_dom_classes": [],
            "_model_module": "@jupyter-widgets/controls",
            "_model_module_version": "1.5.0",
            "_model_name": "HTMLModel",
            "_view_count": null,
            "_view_module": "@jupyter-widgets/controls",
            "_view_module_version": "1.5.0",
            "_view_name": "HTMLView",
            "description": "",
            "description_tooltip": null,
            "layout": "IPY_MODEL_bd3b10e164984698a83b9711fd1543bd",
            "placeholder": "​",
            "style": "IPY_MODEL_c9161cb8f12d429ab93aff24b0abcfd3",
            "value": " 300/300 [00:02&lt;00:00, 111.98it/s, v_num=0]"
          }
        },
        "7abc1e5fb3c94d498a3f15de7dca11f9": {
          "model_module": "@jupyter-widgets/base",
          "model_name": "LayoutModel",
          "model_module_version": "1.2.0",
          "state": {
            "_model_module": "@jupyter-widgets/base",
            "_model_module_version": "1.2.0",
            "_model_name": "LayoutModel",
            "_view_count": null,
            "_view_module": "@jupyter-widgets/base",
            "_view_module_version": "1.2.0",
            "_view_name": "LayoutView",
            "align_content": null,
            "align_items": null,
            "align_self": null,
            "border": null,
            "bottom": null,
            "display": "inline-flex",
            "flex": null,
            "flex_flow": "row wrap",
            "grid_area": null,
            "grid_auto_columns": null,
            "grid_auto_flow": null,
            "grid_auto_rows": null,
            "grid_column": null,
            "grid_gap": null,
            "grid_row": null,
            "grid_template_areas": null,
            "grid_template_columns": null,
            "grid_template_rows": null,
            "height": null,
            "justify_content": null,
            "justify_items": null,
            "left": null,
            "margin": null,
            "max_height": null,
            "max_width": null,
            "min_height": null,
            "min_width": null,
            "object_fit": null,
            "object_position": null,
            "order": null,
            "overflow": null,
            "overflow_x": null,
            "overflow_y": null,
            "padding": null,
            "right": null,
            "top": null,
            "visibility": null,
            "width": "100%"
          }
        },
        "95b4cd2b32da45f0ae9fb58822db2274": {
          "model_module": "@jupyter-widgets/base",
          "model_name": "LayoutModel",
          "model_module_version": "1.2.0",
          "state": {
            "_model_module": "@jupyter-widgets/base",
            "_model_module_version": "1.2.0",
            "_model_name": "LayoutModel",
            "_view_count": null,
            "_view_module": "@jupyter-widgets/base",
            "_view_module_version": "1.2.0",
            "_view_name": "LayoutView",
            "align_content": null,
            "align_items": null,
            "align_self": null,
            "border": null,
            "bottom": null,
            "display": null,
            "flex": null,
            "flex_flow": null,
            "grid_area": null,
            "grid_auto_columns": null,
            "grid_auto_flow": null,
            "grid_auto_rows": null,
            "grid_column": null,
            "grid_gap": null,
            "grid_row": null,
            "grid_template_areas": null,
            "grid_template_columns": null,
            "grid_template_rows": null,
            "height": null,
            "justify_content": null,
            "justify_items": null,
            "left": null,
            "margin": null,
            "max_height": null,
            "max_width": null,
            "min_height": null,
            "min_width": null,
            "object_fit": null,
            "object_position": null,
            "order": null,
            "overflow": null,
            "overflow_x": null,
            "overflow_y": null,
            "padding": null,
            "right": null,
            "top": null,
            "visibility": null,
            "width": null
          }
        },
        "f1e68fdf916e47f9985e66a01a093ecd": {
          "model_module": "@jupyter-widgets/controls",
          "model_name": "DescriptionStyleModel",
          "model_module_version": "1.5.0",
          "state": {
            "_model_module": "@jupyter-widgets/controls",
            "_model_module_version": "1.5.0",
            "_model_name": "DescriptionStyleModel",
            "_view_count": null,
            "_view_module": "@jupyter-widgets/base",
            "_view_module_version": "1.2.0",
            "_view_name": "StyleView",
            "description_width": ""
          }
        },
        "5fa723170f8f48eea5919388fe0b26da": {
          "model_module": "@jupyter-widgets/base",
          "model_name": "LayoutModel",
          "model_module_version": "1.2.0",
          "state": {
            "_model_module": "@jupyter-widgets/base",
            "_model_module_version": "1.2.0",
            "_model_name": "LayoutModel",
            "_view_count": null,
            "_view_module": "@jupyter-widgets/base",
            "_view_module_version": "1.2.0",
            "_view_name": "LayoutView",
            "align_content": null,
            "align_items": null,
            "align_self": null,
            "border": null,
            "bottom": null,
            "display": null,
            "flex": "2",
            "flex_flow": null,
            "grid_area": null,
            "grid_auto_columns": null,
            "grid_auto_flow": null,
            "grid_auto_rows": null,
            "grid_column": null,
            "grid_gap": null,
            "grid_row": null,
            "grid_template_areas": null,
            "grid_template_columns": null,
            "grid_template_rows": null,
            "height": null,
            "justify_content": null,
            "justify_items": null,
            "left": null,
            "margin": null,
            "max_height": null,
            "max_width": null,
            "min_height": null,
            "min_width": null,
            "object_fit": null,
            "object_position": null,
            "order": null,
            "overflow": null,
            "overflow_x": null,
            "overflow_y": null,
            "padding": null,
            "right": null,
            "top": null,
            "visibility": null,
            "width": null
          }
        },
        "e56cc015939440ceac552f9564d4cf87": {
          "model_module": "@jupyter-widgets/controls",
          "model_name": "ProgressStyleModel",
          "model_module_version": "1.5.0",
          "state": {
            "_model_module": "@jupyter-widgets/controls",
            "_model_module_version": "1.5.0",
            "_model_name": "ProgressStyleModel",
            "_view_count": null,
            "_view_module": "@jupyter-widgets/base",
            "_view_module_version": "1.2.0",
            "_view_name": "StyleView",
            "bar_color": null,
            "description_width": ""
          }
        },
        "bd3b10e164984698a83b9711fd1543bd": {
          "model_module": "@jupyter-widgets/base",
          "model_name": "LayoutModel",
          "model_module_version": "1.2.0",
          "state": {
            "_model_module": "@jupyter-widgets/base",
            "_model_module_version": "1.2.0",
            "_model_name": "LayoutModel",
            "_view_count": null,
            "_view_module": "@jupyter-widgets/base",
            "_view_module_version": "1.2.0",
            "_view_name": "LayoutView",
            "align_content": null,
            "align_items": null,
            "align_self": null,
            "border": null,
            "bottom": null,
            "display": null,
            "flex": null,
            "flex_flow": null,
            "grid_area": null,
            "grid_auto_columns": null,
            "grid_auto_flow": null,
            "grid_auto_rows": null,
            "grid_column": null,
            "grid_gap": null,
            "grid_row": null,
            "grid_template_areas": null,
            "grid_template_columns": null,
            "grid_template_rows": null,
            "height": null,
            "justify_content": null,
            "justify_items": null,
            "left": null,
            "margin": null,
            "max_height": null,
            "max_width": null,
            "min_height": null,
            "min_width": null,
            "object_fit": null,
            "object_position": null,
            "order": null,
            "overflow": null,
            "overflow_x": null,
            "overflow_y": null,
            "padding": null,
            "right": null,
            "top": null,
            "visibility": null,
            "width": null
          }
        },
        "c9161cb8f12d429ab93aff24b0abcfd3": {
          "model_module": "@jupyter-widgets/controls",
          "model_name": "DescriptionStyleModel",
          "model_module_version": "1.5.0",
          "state": {
            "_model_module": "@jupyter-widgets/controls",
            "_model_module_version": "1.5.0",
            "_model_name": "DescriptionStyleModel",
            "_view_count": null,
            "_view_module": "@jupyter-widgets/base",
            "_view_module_version": "1.2.0",
            "_view_name": "StyleView",
            "description_width": ""
          }
        }
      }
    }
  },
  "cells": [
    {
      "cell_type": "code",
      "execution_count": 3,
      "metadata": {
        "id": "Sjj8GuuWysdO"
      },
      "outputs": [],
      "source": [
        "import torch\n",
        "import torch.nn as nn\n",
        "import torch.nn.functional as F\n",
        "from torch.optim import SGD\n",
        "\n",
        "import lightning as L\n",
        "from torch.utils.data import TensorDataset, DataLoader\n",
        "\n",
        "import matplotlib.pyplot as plt\n",
        "import seaborn as sns"
      ]
    },
    {
      "cell_type": "code",
      "source": [
        "class BasicLightning(L.LightningModule):\n",
        "\n",
        "    def __init__(self):\n",
        "\n",
        "        super().__init__()\n",
        "\n",
        "        self.w00 = nn.Parameter(torch.tensor(1.7), requires_grad=False)\n",
        "        self.b00 = nn.Parameter(torch.tensor(-0.85), requires_grad=False)\n",
        "        self.w01 = nn.Parameter(torch.tensor(-40.8), requires_grad=False)\n",
        "\n",
        "        self.w10 = nn.Parameter(torch.tensor(12.6), requires_grad=False)\n",
        "        self.b10 = nn.Parameter(torch.tensor(0.0), requires_grad=False)\n",
        "        self.w11 = nn.Parameter(torch.tensor(2.7), requires_grad=False)\n",
        "\n",
        "        self.final_bias = nn.Parameter(torch.tensor(-16.), requires_grad=False)\n",
        "\n",
        "\n",
        "    def forward(self, input):\n",
        "\n",
        "        input_to_top_relu = input * self.w00 + self.b00\n",
        "        top_relu_output = F.relu(input_to_top_relu)\n",
        "        scaled_top_relu_output = top_relu_output * self.w01\n",
        "\n",
        "        input_to_bottom_relu = input* self.w10 + self.b10\n",
        "        bottom_relu_output = F.relu(input_to_bottom_relu)\n",
        "        scaled_bottom_relu_output = bottom_relu_output * self.w11\n",
        "\n",
        "        input_to_final_relu = (scaled_top_relu_output +\n",
        "                               scaled_bottom_relu_output +\n",
        "                               self.final_bias)\n",
        "\n",
        "        output = F.relu(input_to_final_relu)\n",
        "\n",
        "        return output"
      ],
      "metadata": {
        "id": "eG_mC7wpywi1"
      },
      "execution_count": 4,
      "outputs": []
    },
    {
      "cell_type": "code",
      "source": [
        "input_doses = torch.linspace(start=0, end=1, steps=11)"
      ],
      "metadata": {
        "id": "jey30-ExyyNs"
      },
      "execution_count": 5,
      "outputs": []
    },
    {
      "cell_type": "code",
      "source": [
        "input_doses"
      ],
      "metadata": {
        "colab": {
          "base_uri": "https://localhost:8080/"
        },
        "id": "3Ry2LNERyzaD",
        "outputId": "8e923c8a-1a92-4779-8bfb-10d7257f9b80"
      },
      "execution_count": 6,
      "outputs": [
        {
          "output_type": "execute_result",
          "data": {
            "text/plain": [
              "tensor([0.0000, 0.1000, 0.2000, 0.3000, 0.4000, 0.5000, 0.6000, 0.7000, 0.8000,\n",
              "        0.9000, 1.0000])"
            ]
          },
          "metadata": {},
          "execution_count": 6
        }
      ]
    },
    {
      "cell_type": "code",
      "source": [
        "model = BasicLightning()"
      ],
      "metadata": {
        "id": "ywJFogGxy0tD"
      },
      "execution_count": 7,
      "outputs": []
    },
    {
      "cell_type": "code",
      "source": [
        "output_values = model(input_doses)"
      ],
      "metadata": {
        "id": "OWUNnrr7y2hy"
      },
      "execution_count": 8,
      "outputs": []
    },
    {
      "cell_type": "code",
      "source": [
        "output_values"
      ],
      "metadata": {
        "colab": {
          "base_uri": "https://localhost:8080/"
        },
        "id": "LEtyYTl5y3pA",
        "outputId": "bfda3098-af0b-457c-d69a-00a7c5a2f4b4"
      },
      "execution_count": 9,
      "outputs": [
        {
          "output_type": "execute_result",
          "data": {
            "text/plain": [
              "tensor([0.0000, 0.0000, 0.0000, 0.0000, 0.0000, 1.0100, 0.0000, 0.0000, 0.0000,\n",
              "        0.0000, 0.0000])"
            ]
          },
          "metadata": {},
          "execution_count": 9
        }
      ]
    },
    {
      "cell_type": "code",
      "source": [
        "sns.set(style=\"whitegrid\")\n",
        "\n",
        "sns.lineplot(x=input_doses,\n",
        "            y=output_values,\n",
        "            color=\"green\",\n",
        "            linewidth=2.5)\n",
        "\n",
        "plt.ylabel(\"Effectiveness\")\n",
        "plt.xlabel(\"Dose\")"
      ],
      "metadata": {
        "colab": {
          "base_uri": "https://localhost:8080/",
          "height": 475
        },
        "id": "zy5SAVy8y5RZ",
        "outputId": "7ac022d7-ff36-4ba0-eb75-58d071d1b23f"
      },
      "execution_count": 10,
      "outputs": [
        {
          "output_type": "execute_result",
          "data": {
            "text/plain": [
              "Text(0.5, 0, 'Dose')"
            ]
          },
          "metadata": {},
          "execution_count": 10
        },
        {
          "output_type": "display_data",
          "data": {
            "text/plain": [
              "<Figure size 640x480 with 1 Axes>"
            ],
            "image/png": "[encoded data removed]"
          },
          "metadata": {}
        }
      ]
    },
    {
      "cell_type": "code",
      "source": [
        "class BasicLightningTrain(L.LightningModule):\n",
        "\n",
        "    def __init__(self):\n",
        "\n",
        "        super().__init__()\n",
        "\n",
        "        self.w00 = nn.Parameter(torch.tensor(1.7), requires_grad=False)\n",
        "        self.b00 = nn.Parameter(torch.tensor(-0.85), requires_grad=False)\n",
        "        self.w01 = nn.Parameter(torch.tensor(-40.8), requires_grad=False)\n",
        "\n",
        "        self.w10 = nn.Parameter(torch.tensor(12.6), requires_grad=False)\n",
        "        self.b10 = nn.Parameter(torch.tensor(0.0), requires_grad=False)\n",
        "        self.w11 = nn.Parameter(torch.tensor(2.7), requires_grad=False)\n",
        "\n",
        "        self.final_bias = nn.Parameter(torch.tensor(0.0), requires_grad=True)\n",
        "\n",
        "        self.learning_rate = 0.01\n",
        "\n",
        "    def forward(self, input):\n",
        "\n",
        "        input_to_top_relu = input * self.w00 + self.b00\n",
        "        top_relu_output = F.relu(input_to_top_relu)\n",
        "        scaled_top_relu_output = top_relu_output * self.w01\n",
        "\n",
        "        input_to_bottom_relu = input* self.w10 + self.b10\n",
        "        bottom_relu_output = F.relu(input_to_bottom_relu)\n",
        "        scaled_bottom_relu_output = bottom_relu_output * self.w11\n",
        "\n",
        "        input_to_final_relu = (scaled_top_relu_output\n",
        "                               + scaled_bottom_relu_output\n",
        "                               + self.final_bias)\n",
        "\n",
        "        output = F.relu(input_to_final_relu)\n",
        "\n",
        "        return output\n",
        "\n",
        "    def configure_optimizers(self):\n",
        "        return SGD(self.parameters(), lr=self.learning_rate)\n",
        "\n",
        "    def training_step(self, batch, batch_idx):\n",
        "\n",
        "        input_i, label_i = batch\n",
        "        output_i = self.forward(input_i)\n",
        "        loss = (output_i - label_i)**2\n",
        "\n",
        "        return loss"
      ],
      "metadata": {
        "id": "OHmGEEAby7SK"
      },
      "execution_count": 11,
      "outputs": []
    },
    {
      "cell_type": "code",
      "source": [
        "model = BasicLightningTrain()\n",
        "\n",
        "output_values = model(input_doses)\n",
        "\n",
        "sns.set(style=\"whitegrid\")\n",
        "\n",
        "sns.lineplot(x=input_doses,\n",
        "            y=output_values.detach(),\n",
        "            color=\"green\",\n",
        "            linewidth=2.5)\n",
        "\n",
        "plt.ylabel(\"Effectiveness\")\n",
        "plt.xlabel(\"Dose\")"
      ],
      "metadata": {
        "colab": {
          "base_uri": "https://localhost:8080/",
          "height": 475
        },
        "id": "WQ-_-pXgy-O6",
        "outputId": "3f1b2f8f-43d4-4415-a458-398b745db072"
      },
      "execution_count": 12,
      "outputs": [
        {
          "output_type": "execute_result",
          "data": {
            "text/plain": [
              "Text(0.5, 0, 'Dose')"
            ]
          },
          "metadata": {},
          "execution_count": 12
        },
        {
          "output_type": "display_data",
          "data": {
            "text/plain": [
              "<Figure size 640x480 with 1 Axes>"
            ],
            "image/png": "[encoded data removed]"
          },
          "metadata": {}
        }
      ]
    },
    {
      "cell_type": "code",
      "source": [
        "inputs = torch.tensor([0., 0.5, 1.]*100)\n",
        "labels = torch.tensor([0., 1., 0.]*100)\n",
        "\n",
        "dataset = TensorDataset(inputs, labels)\n",
        "dataloader = DataLoader(dataset)"
      ],
      "metadata": {
        "id": "m3dzdWqFzCsg"
      },
      "execution_count": 13,
      "outputs": []
    },
    {
      "cell_type": "code",
      "source": [
        "model = BasicLightningTrain()\n",
        "trainer = L.Trainer(max_epochs=34, accelerator=\"auto\", devices=\"auto\")\n",
        "tuner = L.pytorch.tuner.Tuner(trainer)\n",
        "\n",
        "lr_find_results = tuner.lr_find(model,\n",
        "                                train_dataloaders=dataloader,\n",
        "                                min_lr=0.001,\n",
        "                                max_lr=1.,\n",
        "                                early_stop_threshold=None)\n",
        "\n",
        "new_lr = lr_find_results.suggestion()\n",
        "\n",
        "print(f\"lr_find() suggests {new_lr:.5f} for the learning rate.\")\n",
        "\n",
        "model.learning_rate = new_lr"
      ],
      "metadata": {
        "colab": {
          "base_uri": "https://localhost:8080/",
          "height": 309,
          "referenced_widgets": [
            "194013ba0ec2429287c36598865944c6",
            "6839d3a51c8e4daab252a6f94ed09d09",
            "41f7347d12c34944bf7ca73c00bf1d51",
            "7c4fe270d3184a8fb99968b1e8f0fb1b",
            "536e324c63f348bc9ef67b474d3abaa7",
            "5095409b1a424e49bcab70b5a987d627",
            "c90d409998944710b3ce6cc4cf88d4e8",
            "f2c65fefe450476f8cfa33dca7e99eb3",
            "ce731fb2b35e4c7ab53709a1405d75d5",
            "36ad1bc68df94f8d8b59a7327aecc237",
            "c104062fdc334db1bd3621d5b4e010b2"
          ]
        },
        "id": "Znt1elwNzEBI",
        "outputId": "74121cc6-ea72-4797-b8ab-9b754e410001"
      },
      "execution_count": 14,
      "outputs": [
        {
          "output_type": "stream",
          "name": "stderr",
          "text": [
            "INFO: GPU available: False, used: False\n",
            "INFO:lightning.pytorch.utilities.rank_zero:GPU available: False, used: False\n",
            "INFO: TPU available: False, using: 0 TPU cores\n",
            "INFO:lightning.pytorch.utilities.rank_zero:TPU available: False, using: 0 TPU cores\n",
            "INFO: HPU available: False, using: 0 HPUs\n",
            "INFO:lightning.pytorch.utilities.rank_zero:HPU available: False, using: 0 HPUs\n"
          ]
        },
        {
          "output_type": "display_data",
          "data": {
            "text/plain": [
              "Finding best initial lr:   0%|          | 0/100 [00:00<?, ?it/s]"
            ],
            "application/vnd.jupyter.widget-view+json": {
              "version_major": 2,
              "version_minor": 0,
              "model_id": "194013ba0ec2429287c36598865944c6"
            }
          },
          "metadata": {}
        },
        {
          "output_type": "stream",
          "name": "stderr",
          "text": [
            "INFO: `Trainer.fit` stopped: `max_steps=100` reached.\n",
            "INFO:lightning.pytorch.utilities.rank_zero:`Trainer.fit` stopped: `max_steps=100` reached.\n",
            "INFO: Learning rate set to 0.002137962089502232\n",
            "INFO:lightning.pytorch.tuner.lr_finder:Learning rate set to 0.002137962089502232\n",
            "INFO: Restoring states from the checkpoint path at /content/.lr_find_377c4182-4375-4232-99eb-e9f3c33ed01a.ckpt\n",
            "INFO:lightning.pytorch.utilities.rank_zero:Restoring states from the checkpoint path at /content/.lr_find_377c4182-4375-4232-99eb-e9f3c33ed01a.ckpt\n",
            "INFO: Restored all states from the checkpoint at /content/.lr_find_377c4182-4375-4232-99eb-e9f3c33ed01a.ckpt\n",
            "INFO:lightning.pytorch.utilities.rank_zero:Restored all states from the checkpoint at /content/.lr_find_377c4182-4375-4232-99eb-e9f3c33ed01a.ckpt\n"
          ]
        },
        {
          "output_type": "stream",
          "name": "stdout",
          "text": [
            "lr_find() suggests 0.00214 for the learning rate.\n"
          ]
        }
      ]
    },
    {
      "cell_type": "code",
      "source": [
        "trainer.fit(model, train_dataloaders=dataloader)\n",
        "\n",
        "print(model.final_bias.data)"
      ],
      "metadata": {
        "colab": {
          "base_uri": "https://localhost:8080/",
          "height": 431,
          "referenced_widgets": [
            "f247f23a53ca47f2985058f9b580e5c5",
            "5e074c590e104c9db880207317df4d62",
            "46ae157bd27849d6995513a4f8478440",
            "9d88edc80d104ff281f8747a6bf667c2",
            "7abc1e5fb3c94d498a3f15de7dca11f9",
            "95b4cd2b32da45f0ae9fb58822db2274",
            "f1e68fdf916e47f9985e66a01a093ecd",
            "5fa723170f8f48eea5919388fe0b26da",
            "e56cc015939440ceac552f9564d4cf87",
            "bd3b10e164984698a83b9711fd1543bd",
            "c9161cb8f12d429ab93aff24b0abcfd3"
          ]
        },
        "id": "DZrMtrPpzFaK",
        "outputId": "cc1f85b2-d692-400a-97ab-ecc68fb408d1"
      },
      "execution_count": null,
      "outputs": [
        {
          "output_type": "stream",
          "name": "stderr",
          "text": [
            "INFO: \n",
            "  | Name         | Type | Params | Mode\n",
            "---------------------------------------------\n",
            "  | other params | n/a  | 7      | n/a \n",
            "---------------------------------------------\n",
            "1         Trainable params\n",
            "6         Non-trainable params\n",
            "7         Total params\n",
            "0.000     Total estimated model params size (MB)\n",
            "0         Modules in train mode\n",
            "0         Modules in eval mode\n",
            "INFO:lightning.pytorch.callbacks.model_summary:\n",
            "  | Name         | Type | Params | Mode\n",
            "---------------------------------------------\n",
            "  | other params | n/a  | 7      | n/a \n",
            "---------------------------------------------\n",
            "1         Trainable params\n",
            "6         Non-trainable params\n",
            "7         Total params\n",
            "0.000     Total estimated model params size (MB)\n",
            "0         Modules in train mode\n",
            "0         Modules in eval mode\n"
          ]
        },
        {
          "output_type": "display_data",
          "data": {
            "text/plain": [
              "Training: |          | 0/? [00:00<?, ?it/s]"
            ],
            "application/vnd.jupyter.widget-view+json": {
              "version_major": 2,
              "version_minor": 0,
              "model_id": "f247f23a53ca47f2985058f9b580e5c5"
            }
          },
          "metadata": {}
        }
      ]
    },
    {
      "cell_type": "code",
      "source": [
        "output_values = model(input_doses)\n",
        "\n",
        "sns.set(style=\"whitegrid\")\n",
        "\n",
        "sns.lineplot(x=input_doses,\n",
        "            y=output_values.detach(),\n",
        "            color=\"green\",\n",
        "            linewidth=2.5)\n",
        "\n",
        "plt.ylabel(\"Effectiveness\")\n",
        "plt.xlabel(\"Dose\")"
      ],
      "metadata": {
        "colab": {
          "base_uri": "https://localhost:8080/",
          "height": 475
        },
        "id": "CMiDNdT0zGjZ",
        "outputId": "a5efbf45-cda8-4358-cb2a-f8a901892adc"
      },
      "execution_count": 17,
      "outputs": [
        {
          "output_type": "execute_result",
          "data": {
            "text/plain": [
              "Text(0.5, 0, 'Dose')"
            ]
          },
          "metadata": {},
          "execution_count": 17
        },
        {
          "output_type": "display_data",
          "data": {
            "text/plain": [
              "<Figure size 640x480 with 1 Axes>"
            ],
            "image/png": "[encoded data removed]"
          },
          "metadata": {}
        }
      ]
    }
  ]
}